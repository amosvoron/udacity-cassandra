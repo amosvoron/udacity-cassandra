{
 "cells": [
  {
   "cell_type": "code",
   "execution_count": 1,
   "metadata": {},
   "outputs": [],
   "source": [
    "# Import Python packages \n",
    "import pandas as pd\n",
    "import cassandra\n",
    "import re\n",
    "import os\n",
    "import glob\n",
    "import numpy as np\n",
    "import json\n",
    "import csv"
   ]
  },
  {
   "cell_type": "markdown",
   "metadata": {},
   "source": [
    "# Data Source Preparation"
   ]
  },
  {
   "cell_type": "markdown",
   "metadata": {},
   "source": [
    "### Extract data from CSV"
   ]
  },
  {
   "cell_type": "code",
   "execution_count": 2,
   "metadata": {},
   "outputs": [],
   "source": [
    "# CSV file name of our data source\n",
    "# Note: We'll extract data from various CSV files and load it into a single (destination) CSV file.\n",
    "filename = 'event_datafile_new.csv'"
   ]
  },
  {
   "cell_type": "code",
   "execution_count": 20,
   "metadata": {},
   "outputs": [],
   "source": [
    "def merge_csv(filename):\n",
    "    \"\"\"Extracts and load data from various CSV files into a single (destination) CSV file.\n",
    "    \n",
    "    Args:\n",
    "        filename: The filename of a destination CSV file. \n",
    "    \n",
    "    Returns:\n",
    "        None\n",
    "    \"\"\"        \n",
    "    \n",
    "    print('Extracting data from CSV files started...')\n",
    "    \n",
    "    # Get the current folder and subfolder event data\n",
    "    filepath = os.path.join(os.getcwd(), 'event_data')\n",
    "    \n",
    "    print(f' > filepath: {filepath}')\n",
    "   \n",
    "    # Create a for loop to create a list of files and collect each filepath\n",
    "    for root, dirs, files in os.walk(filepath):\n",
    "        # join the file path and roots with the subdirectories using glob\n",
    "        csv_list = glob.glob(os.path.join(root, '*'))\n",
    "       \n",
    "    print(f' > number of csv files: {len(csv_list)}')\n",
    "    \n",
    "    # Initiating an empty list of rows that will be generated from each file\n",
    "    rows = [] \n",
    "    \n",
    "    # Extract each row in every file and append it to the rows list\n",
    "    for f in csv_list:\n",
    "        with open(f, 'r', encoding = 'utf8', newline='') as csvfile: \n",
    "            csvreader = csv.reader(csvfile) \n",
    "            next(csvreader)      \n",
    "    \n",
    "            # Append all rows\n",
    "            for line in csvreader:\n",
    "                rows.append(line) \n",
    "            \n",
    "    print(f' > total rows: {len(rows)}')\n",
    "\n",
    "    # creating a smaller event data csv file called event_datafile_full csv that will be used to insert data into the \\\n",
    "    # Apache Cassandra tables\n",
    "    csv.register_dialect('myDialect', quoting=csv.QUOTE_ALL, skipinitialspace=True)\n",
    "\n",
    "    # Create new CSV file that will contain all rows from event_data CSV files\n",
    "    with open(filename, 'w', encoding = 'utf8', newline='') as f:\n",
    "        writer = csv.writer(f, dialect='myDialect')\n",
    "        writer.writerow(['artist', 'firstName', 'gender', 'itemInSession', 'lastName', 'length', \\\n",
    "                         'level', 'location', 'sessionId', 'song', 'userId'])\n",
    "        \n",
    "        # Write rows    \n",
    "        for row in rows:\n",
    "            if (row[0] == ''):\n",
    "                continue\n",
    "            writer.writerow((row[0], row[2], row[3], row[4], row[5], row[6], row[7], row[8], row[12], row[13], row[16]))\n",
    "\n",
    "    print(f' > destination CSV file: {filename}')        \n",
    "            \n",
    "    # Check total number of rows in newly created CSV file\n",
    "    with open(filename, 'r', encoding = 'utf8') as f:\n",
    "        print(f' > total rows in destination CSV file: {sum(1 for line in f)}')\n",
    "            \n",
    "    print('Extracting data from CSV files finished.')            \n"
   ]
  },
  {
   "cell_type": "code",
   "execution_count": 21,
   "metadata": {},
   "outputs": [
    {
     "name": "stdout",
     "output_type": "stream",
     "text": [
      "Extracting data from CSV files started...\n",
      " > filepath: D:\\udacity\\Data Engineering\\project 2\\event_data\n",
      " > number of csv files: 30\n",
      " > total rows: 8056\n",
      " > destination CSV file: event_datafile_new.csv\n",
      " > total rows in destination CSV file: 6821\n",
      "Extracting data from CSV files finished.\n"
     ]
    }
   ],
   "source": [
    "merge_csv(filename)"
   ]
  },
  {
   "cell_type": "markdown",
   "metadata": {},
   "source": [
    "### Load data from CSV into pandas dataframe"
   ]
  },
  {
   "cell_type": "code",
   "execution_count": 22,
   "metadata": {},
   "outputs": [
    {
     "data": {
      "text/html": [
       "<div>\n",
       "<style scoped>\n",
       "    .dataframe tbody tr th:only-of-type {\n",
       "        vertical-align: middle;\n",
       "    }\n",
       "\n",
       "    .dataframe tbody tr th {\n",
       "        vertical-align: top;\n",
       "    }\n",
       "\n",
       "    .dataframe thead th {\n",
       "        text-align: right;\n",
       "    }\n",
       "</style>\n",
       "<table border=\"1\" class=\"dataframe\">\n",
       "  <thead>\n",
       "    <tr style=\"text-align: right;\">\n",
       "      <th></th>\n",
       "      <th>artist</th>\n",
       "      <th>firstName</th>\n",
       "      <th>gender</th>\n",
       "      <th>itemInSession</th>\n",
       "      <th>lastName</th>\n",
       "      <th>length</th>\n",
       "      <th>level</th>\n",
       "      <th>location</th>\n",
       "      <th>sessionId</th>\n",
       "      <th>song</th>\n",
       "      <th>userId</th>\n",
       "    </tr>\n",
       "  </thead>\n",
       "  <tbody>\n",
       "    <tr>\n",
       "      <th>0</th>\n",
       "      <td>Des'ree</td>\n",
       "      <td>Kaylee</td>\n",
       "      <td>F</td>\n",
       "      <td>1</td>\n",
       "      <td>Summers</td>\n",
       "      <td>246.30812</td>\n",
       "      <td>free</td>\n",
       "      <td>Phoenix-Mesa-Scottsdale, AZ</td>\n",
       "      <td>139</td>\n",
       "      <td>You Gotta Be</td>\n",
       "      <td>8</td>\n",
       "    </tr>\n",
       "    <tr>\n",
       "      <th>1</th>\n",
       "      <td>Mr Oizo</td>\n",
       "      <td>Kaylee</td>\n",
       "      <td>F</td>\n",
       "      <td>3</td>\n",
       "      <td>Summers</td>\n",
       "      <td>144.03873</td>\n",
       "      <td>free</td>\n",
       "      <td>Phoenix-Mesa-Scottsdale, AZ</td>\n",
       "      <td>139</td>\n",
       "      <td>Flat 55</td>\n",
       "      <td>8</td>\n",
       "    </tr>\n",
       "    <tr>\n",
       "      <th>2</th>\n",
       "      <td>Tamba Trio</td>\n",
       "      <td>Kaylee</td>\n",
       "      <td>F</td>\n",
       "      <td>4</td>\n",
       "      <td>Summers</td>\n",
       "      <td>177.18812</td>\n",
       "      <td>free</td>\n",
       "      <td>Phoenix-Mesa-Scottsdale, AZ</td>\n",
       "      <td>139</td>\n",
       "      <td>Quem Quiser Encontrar O Amor</td>\n",
       "      <td>8</td>\n",
       "    </tr>\n",
       "    <tr>\n",
       "      <th>3</th>\n",
       "      <td>The Mars Volta</td>\n",
       "      <td>Kaylee</td>\n",
       "      <td>F</td>\n",
       "      <td>5</td>\n",
       "      <td>Summers</td>\n",
       "      <td>380.42077</td>\n",
       "      <td>free</td>\n",
       "      <td>Phoenix-Mesa-Scottsdale, AZ</td>\n",
       "      <td>139</td>\n",
       "      <td>Eriatarka</td>\n",
       "      <td>8</td>\n",
       "    </tr>\n",
       "    <tr>\n",
       "      <th>4</th>\n",
       "      <td>Infected Mushroom</td>\n",
       "      <td>Kaylee</td>\n",
       "      <td>F</td>\n",
       "      <td>6</td>\n",
       "      <td>Summers</td>\n",
       "      <td>440.26730</td>\n",
       "      <td>free</td>\n",
       "      <td>Phoenix-Mesa-Scottsdale, AZ</td>\n",
       "      <td>139</td>\n",
       "      <td>Becoming Insane</td>\n",
       "      <td>8</td>\n",
       "    </tr>\n",
       "  </tbody>\n",
       "</table>\n",
       "</div>"
      ],
      "text/plain": [
       "              artist firstName gender  itemInSession lastName     length  \\\n",
       "0            Des'ree    Kaylee      F              1  Summers  246.30812   \n",
       "1            Mr Oizo    Kaylee      F              3  Summers  144.03873   \n",
       "2         Tamba Trio    Kaylee      F              4  Summers  177.18812   \n",
       "3     The Mars Volta    Kaylee      F              5  Summers  380.42077   \n",
       "4  Infected Mushroom    Kaylee      F              6  Summers  440.26730   \n",
       "\n",
       "  level                     location  sessionId                          song  \\\n",
       "0  free  Phoenix-Mesa-Scottsdale, AZ        139                  You Gotta Be   \n",
       "1  free  Phoenix-Mesa-Scottsdale, AZ        139                       Flat 55   \n",
       "2  free  Phoenix-Mesa-Scottsdale, AZ        139  Quem Quiser Encontrar O Amor   \n",
       "3  free  Phoenix-Mesa-Scottsdale, AZ        139                     Eriatarka   \n",
       "4  free  Phoenix-Mesa-Scottsdale, AZ        139               Becoming Insane   \n",
       "\n",
       "   userId  \n",
       "0       8  \n",
       "1       8  \n",
       "2       8  \n",
       "3       8  \n",
       "4       8  "
      ]
     },
     "execution_count": 22,
     "metadata": {},
     "output_type": "execute_result"
    }
   ],
   "source": [
    "filepath = os.path.join(os.getcwd(), filename)\n",
    "df = pd.read_csv(filename)\n",
    "df.head()"
   ]
  },
  {
   "cell_type": "code",
   "execution_count": 23,
   "metadata": {},
   "outputs": [
    {
     "data": {
      "text/plain": [
       "(6820, 11)"
      ]
     },
     "execution_count": 23,
     "metadata": {},
     "output_type": "execute_result"
    }
   ],
   "source": [
    "# Check shape\n",
    "# Note: The dataset rowcount is equal to CSV rowcount minus 1 (header row)!\n",
    "df.shape"
   ]
  },
  {
   "cell_type": "code",
   "execution_count": 24,
   "metadata": {},
   "outputs": [
    {
     "data": {
      "text/plain": [
       "artist            object\n",
       "firstName         object\n",
       "gender            object\n",
       "itemInSession      int64\n",
       "lastName          object\n",
       "length           float64\n",
       "level             object\n",
       "location          object\n",
       "sessionId          int64\n",
       "song              object\n",
       "userId             int64\n",
       "dtype: object"
      ]
     },
     "execution_count": 24,
     "metadata": {},
     "output_type": "execute_result"
    }
   ],
   "source": [
    "# Check data types\n",
    "df.dtypes"
   ]
  },
  {
   "cell_type": "markdown",
   "metadata": {},
   "source": [
    "# Data Modeling by Apache Cassandra"
   ]
  },
  {
   "cell_type": "markdown",
   "metadata": {},
   "source": [
    "### Common functions"
   ]
  },
  {
   "cell_type": "code",
   "execution_count": 97,
   "metadata": {},
   "outputs": [],
   "source": [
    "def execute_query(session, query):\n",
    "    \"\"\"Execute query.\n",
    "    \n",
    "    Args:\n",
    "        session: The Apache Cassandra session object.\n",
    "        query (str): The query to execute.\n",
    "    \n",
    "    Returns:\n",
    "        result: The cassandra.cluster.ResultSet object.\n",
    "    \"\"\"           \n",
    "    try: \n",
    "        return session.execute(query)\n",
    "    except Exception as e:\n",
    "        print(e)    \n",
    "\n",
    "        \n",
    "def get_rowcount(session, table_name):\n",
    "    \"\"\"Returns COUNT of a given table.\n",
    "    \n",
    "    Args:\n",
    "        session: The Apache Cassandra session object.\n",
    "        table_name (str): The target table name.\n",
    "    \n",
    "    Returns:\n",
    "        int: The rowcount value.\n",
    "    \"\"\"           \n",
    "    query = f'SELECT COUNT(*) FROM {table_name};'\n",
    "    result = execute_query(session, query)\n",
    "    \n",
    "    return result.current_rows[0].count\n"
   ]
  },
  {
   "cell_type": "markdown",
   "metadata": {},
   "source": [
    "### Create cluster"
   ]
  },
  {
   "cell_type": "code",
   "execution_count": 93,
   "metadata": {},
   "outputs": [],
   "source": [
    "from cassandra.cluster import Cluster\n",
    "try: \n",
    "    cluster = Cluster(['127.0.0.1', '9042'])\n",
    "    session = cluster.connect()\n",
    "except Exception as e:\n",
    "    print(e)"
   ]
  },
  {
   "cell_type": "markdown",
   "metadata": {},
   "source": [
    "### Create and set keyspace (sparkify)"
   ]
  },
  {
   "cell_type": "code",
   "execution_count": 94,
   "metadata": {},
   "outputs": [],
   "source": [
    "try:\n",
    "    query = \"\"\"\n",
    "        CREATE KEYSPACE IF NOT EXISTS sparkify \n",
    "        WITH REPLICATION = \n",
    "        { 'class' : 'SimpleStrategy', 'replication_factor' : 1 };\n",
    "    \"\"\"\n",
    "    session.execute(query)\n",
    "    session.set_keyspace('sparkify')\n",
    "except Exception as e:\n",
    "    print(e)"
   ]
  },
  {
   "cell_type": "markdown",
   "metadata": {},
   "source": [
    "### Queries\n",
    "\n",
    "We want to create a model that will be suited to the following quieries:\n",
    "\n",
    "[Table #1 - *session_items*]\n",
    "\n",
    "1. Give me the **artist**, **song** title and song's **length** \n",
    "   that was heard during **sessionId** = 338 and **itemInSession** = 4.\n",
    "   \n",
    "[Table #2 - *user_sessions*]\n",
    "\n",
    "2. Give me only the following: *artist*, *song* (sorted by *itemInSession*) and *user* (*first* and *last name*) \n",
    "   for **userid** = 10, **sessionid** = 182.\n",
    "   \n",
    "[Table #3 - *song_users*]\n",
    "\n",
    "3. Give me every *user name* (*first* and *last*) \n",
    "   who listened to the **song** = 'All Hands Against His Own'."
   ]
  },
  {
   "cell_type": "markdown",
   "metadata": {},
   "source": [
    "### Create tables and insert data"
   ]
  },
  {
   "cell_type": "markdown",
   "metadata": {},
   "source": [
    "We'll use the naming convention as describe on the apacha cassandra official site (https://cassandra.apache.org/doc/latest/data_modeling/data_modeling_logical.html)."
   ]
  },
  {
   "cell_type": "markdown",
   "metadata": {},
   "source": [
    "#### Table #1: *songs_by_session_item*\n",
    "\n",
    "Query description:\n",
    "\n",
    "> Give me the **artist**, **song** title and song's **length** that was heard during **sessionId** = 338 and **itemInSession** = 4.\n",
    "\n",
    "Query:\n",
    "\n",
    "> ```SELECT artist, song, length FROM songs_by_session_item WHERE session_id = 338 and item_session = 4```\n",
    "\n",
    "Explanation:\n",
    "\n",
    "> The query returns the information about the *song* and its *artist* filtered by the *session item*. Since the \"artist\" information is included in the **song entity** we'll denominate the table as \"songs\" table. We'll also use the suffix \"_by_session_item\" to refer to the session item which is uniquelly identified by *session_id* and *session_item* column. Since one session item represents one song listened by user the PRIMARY KEY will be composed by **session_id** and **session_item** where session_id will be the PARTITION KEY and the session_item will be the CLUSTERING KEY.\n",
    "\n",
    "Columns:\n",
    " - *session_id* (PK: PARTITION KEY, int)\n",
    " - *session_item* (PK: CLUSTERING KEY, int)\n",
    " - *artist* (text)\n",
    " - *song* (text)\n",
    " - *length* (float)"
   ]
  },
  {
   "cell_type": "markdown",
   "metadata": {},
   "source": [
    "##### PRIMARY KEY check"
   ]
  },
  {
   "cell_type": "code",
   "execution_count": 67,
   "metadata": {},
   "outputs": [
    {
     "data": {
      "text/plain": [
       "(6820, 2)"
      ]
     },
     "execution_count": 67,
     "metadata": {},
     "output_type": "execute_result"
    }
   ],
   "source": [
    "# Use dataframe to check uniqueness of the PRIMARY KEY(session_id, session_item) - OK\n",
    "df[['sessionId', 'itemInSession']].drop_duplicates().shape"
   ]
  },
  {
   "cell_type": "markdown",
   "metadata": {},
   "source": [
    "##### Create"
   ]
  },
  {
   "cell_type": "code",
   "execution_count": 72,
   "metadata": {},
   "outputs": [],
   "source": [
    "query = \"\"\"\n",
    "    CREATE TABLE IF NOT EXISTS songs_by_session_item (\n",
    "        session_id int,\n",
    "        session_item int,\n",
    "        artist text,\n",
    "        song text,\n",
    "        length float,\n",
    "        PRIMARY KEY ((session_id), session_item)\n",
    "    );\n",
    "\"\"\"\n",
    "try:\n",
    "    session.execute(query)\n",
    "except Exception as e:\n",
    "    print(e)"
   ]
  },
  {
   "cell_type": "markdown",
   "metadata": {},
   "source": [
    "##### Insert"
   ]
  },
  {
   "cell_type": "code",
   "execution_count": 84,
   "metadata": {},
   "outputs": [
    {
     "name": "stdout",
     "output_type": "stream",
     "text": [
      "Insert into songs_by_session_item table started. Please wait...\n",
      " > 10% done.\n",
      " > 20% done.\n",
      " > 30% done.\n",
      " > 40% done.\n",
      " > 50% done.\n",
      " > 60% done.\n",
      " > 70% done.\n",
      " > 80% done.\n",
      " > 90% done.\n",
      " > 100% done.\n",
      "Insert completed.\n"
     ]
    }
   ],
   "source": [
    "query = \"\"\"\n",
    "    INSERT INTO songs_by_session_item\n",
    "    (session_id, session_item, artist, song, length)\n",
    "    VALUES (%s, %s, %s, %s, %s);\n",
    "\"\"\"\n",
    "# define progress variables\n",
    "total = df.shape[0]          # total rows\n",
    "percentage = 10;             # show progress on every 10% completed\n",
    "portion = int(total * 0.1)   # 10% portion\n",
    "\n",
    "print('Insert into songs_by_session_item table started. Please wait...')\n",
    "\n",
    "try:\n",
    "    # loop through all dataframe rows\n",
    "    for ix, item in df.iterrows():\n",
    "        # insert\n",
    "        session.execute(query, \\\n",
    "                        (item.sessionId, item.itemInSession, item.artist, item.song, item.length))\n",
    "    \n",
    "        # show progress\n",
    "        if (ix+1) % portion == 0:\n",
    "            print(f' > {percentage}% done.')\n",
    "            percentage += 10\n",
    "\n",
    "    print('Insert completed.') \n",
    "except Exception as e:\n",
    "    print(e)"
   ]
  },
  {
   "cell_type": "markdown",
   "metadata": {},
   "source": [
    "##### Validate"
   ]
  },
  {
   "cell_type": "code",
   "execution_count": 74,
   "metadata": {},
   "outputs": [
    {
     "name": "stdout",
     "output_type": "stream",
     "text": [
      "OK: 6820 of 6820\n"
     ]
    }
   ],
   "source": [
    "# Check row count - should be 6820!\n",
    "count = get_rowcount(session, 'songs_by_session_item')\n",
    "total = len(df)\n",
    "if count == total:\n",
    "    status = 'OK'\n",
    "else:\n",
    "    status = 'NOT OK'\n",
    "    \n",
    "print(f\"{status}: {count} of {total}\")"
   ]
  },
  {
   "cell_type": "code",
   "execution_count": 75,
   "metadata": {},
   "outputs": [
    {
     "data": {
      "text/html": [
       "<div>\n",
       "<style scoped>\n",
       "    .dataframe tbody tr th:only-of-type {\n",
       "        vertical-align: middle;\n",
       "    }\n",
       "\n",
       "    .dataframe tbody tr th {\n",
       "        vertical-align: top;\n",
       "    }\n",
       "\n",
       "    .dataframe thead th {\n",
       "        text-align: right;\n",
       "    }\n",
       "</style>\n",
       "<table border=\"1\" class=\"dataframe\">\n",
       "  <thead>\n",
       "    <tr style=\"text-align: right;\">\n",
       "      <th></th>\n",
       "      <th>artist</th>\n",
       "      <th>song</th>\n",
       "      <th>length</th>\n",
       "    </tr>\n",
       "  </thead>\n",
       "  <tbody>\n",
       "    <tr>\n",
       "      <th>0</th>\n",
       "      <td>Faithless</td>\n",
       "      <td>Music Matters (Mark Knight Dub)</td>\n",
       "      <td>495.307312</td>\n",
       "    </tr>\n",
       "  </tbody>\n",
       "</table>\n",
       "</div>"
      ],
      "text/plain": [
       "      artist                             song      length\n",
       "0  Faithless  Music Matters (Mark Knight Dub)  495.307312"
      ]
     },
     "execution_count": 75,
     "metadata": {},
     "output_type": "execute_result"
    }
   ],
   "source": [
    "# Test query #1\n",
    "query1 = \"\"\"\n",
    "    SELECT artist, song, length \n",
    "    FROM songs_by_session_item \n",
    "    WHERE session_id = 338 and session_item = 4;\n",
    "\"\"\"\n",
    "data = []\n",
    "result = execute_query(session, query1)\n",
    "for row in result:\n",
    "    data.append(row)\n",
    "    \n",
    "pd.DataFrame(data)"
   ]
  },
  {
   "cell_type": "code",
   "execution_count": 76,
   "metadata": {},
   "outputs": [
    {
     "data": {
      "text/html": [
       "<div>\n",
       "<style scoped>\n",
       "    .dataframe tbody tr th:only-of-type {\n",
       "        vertical-align: middle;\n",
       "    }\n",
       "\n",
       "    .dataframe tbody tr th {\n",
       "        vertical-align: top;\n",
       "    }\n",
       "\n",
       "    .dataframe thead th {\n",
       "        text-align: right;\n",
       "    }\n",
       "</style>\n",
       "<table border=\"1\" class=\"dataframe\">\n",
       "  <thead>\n",
       "    <tr style=\"text-align: right;\">\n",
       "      <th></th>\n",
       "      <th>artist</th>\n",
       "      <th>song</th>\n",
       "      <th>length</th>\n",
       "    </tr>\n",
       "  </thead>\n",
       "  <tbody>\n",
       "    <tr>\n",
       "      <th>964</th>\n",
       "      <td>Faithless</td>\n",
       "      <td>Music Matters (Mark Knight Dub)</td>\n",
       "      <td>495.3073</td>\n",
       "    </tr>\n",
       "  </tbody>\n",
       "</table>\n",
       "</div>"
      ],
      "text/plain": [
       "        artist                             song    length\n",
       "964  Faithless  Music Matters (Mark Knight Dub)  495.3073"
      ]
     },
     "execution_count": 76,
     "metadata": {},
     "output_type": "execute_result"
    }
   ],
   "source": [
    "# Check it using pandas dataframe - OK!\n",
    "df[(df.sessionId == 338) & (df.itemInSession == 4)] \\\n",
    "    .loc[:, ['artist', 'song', 'length']]"
   ]
  },
  {
   "cell_type": "code",
   "execution_count": null,
   "metadata": {},
   "outputs": [],
   "source": []
  },
  {
   "cell_type": "markdown",
   "metadata": {},
   "source": [
    "#### Table #2: *songs_by_session*\n",
    "\n",
    "Query description:\n",
    "\n",
    "> Give me only the following: *artist*, *song* (sorted by *itemInSession*) and *user* (*first* and *last name*) for **userid** = 10, **sessionid** = 182.\n",
    "\n",
    "Query:\n",
    "\n",
    "> ```SELECT artist, song, first_name, last_name FROM songs_by_session WHERE user_id = 10 and session_id = 182```\n",
    "\n",
    "Explanation:\n",
    "\n",
    "> The query returns the information about the *song*, its *artist* and the *user* filtered by the *session*. Since the \"artist\" information and the \"user\" information is included in the **song entity** we'll denominate the second table as \"songs\" table. Will use the suffix \"_by_session\" to refer to the session  which is uniquelly identified by *user_id* and *session_id* column. Since the songs must be ordered by *itemInSession* (=session_item) column we'll also include the *session_item* column as CLUSTERING KEY in the primary key. \n",
    "\n",
    "Columns:\n",
    " - *user_id* (PK: PARTITION KEY, int)\n",
    " - *session_id* (PK: PARTITION KEY, int)\n",
    " - *session_item* (PK: CLUSTERING KEY, int)\n",
    " - *artist* (text)\n",
    " - *song* (text)\n",
    " - *first_name* (text)\n",
    " - *last_name* (text)"
   ]
  },
  {
   "cell_type": "markdown",
   "metadata": {},
   "source": [
    "##### PRIMARY KEY check"
   ]
  },
  {
   "cell_type": "code",
   "execution_count": 78,
   "metadata": {},
   "outputs": [
    {
     "data": {
      "text/plain": [
       "(6820, 3)"
      ]
     },
     "execution_count": 78,
     "metadata": {},
     "output_type": "execute_result"
    }
   ],
   "source": [
    "# Use dataframe to check the uniqueness of PRIMARY KEY(user_id, session_id, session_item) - OK\n",
    "df[['userId', 'sessionId', 'itemInSession']].drop_duplicates().shape"
   ]
  },
  {
   "cell_type": "markdown",
   "metadata": {},
   "source": [
    "We could have skipped this check since already the compound key (*session_id*, *session_item*) is unique in our dataset."
   ]
  },
  {
   "cell_type": "markdown",
   "metadata": {},
   "source": [
    "##### Create"
   ]
  },
  {
   "cell_type": "code",
   "execution_count": 79,
   "metadata": {},
   "outputs": [],
   "source": [
    "query = \"\"\"\n",
    "    CREATE TABLE IF NOT EXISTS songs_by_session (\n",
    "        user_id int,\n",
    "        session_id int,\n",
    "        session_item int,\n",
    "        artist text,\n",
    "        song text,\n",
    "        first_name text,\n",
    "        last_name text,\n",
    "        PRIMARY KEY ((user_id, session_id), session_item)\n",
    "    );\n",
    "\"\"\"\n",
    "try:\n",
    "    session.execute(query)\n",
    "except Exception as e:\n",
    "    print(e)"
   ]
  },
  {
   "cell_type": "markdown",
   "metadata": {},
   "source": [
    "##### Insert"
   ]
  },
  {
   "cell_type": "code",
   "execution_count": 80,
   "metadata": {},
   "outputs": [
    {
     "name": "stdout",
     "output_type": "stream",
     "text": [
      "Insert into songs_by_session table started. Please wait...\n",
      " > 10% done.\n",
      " > 20% done.\n",
      " > 30% done.\n",
      " > 40% done.\n",
      " > 50% done.\n",
      " > 60% done.\n",
      " > 70% done.\n",
      " > 80% done.\n",
      " > 90% done.\n",
      " > 100% done.\n",
      "Insert completed.\n"
     ]
    }
   ],
   "source": [
    "query = \"\"\"\n",
    "    INSERT INTO songs_by_session\n",
    "    (user_id, session_id, session_item, artist, song, first_name, last_name)\n",
    "    VALUES (%s, %s, %s, %s, %s, %s, %s);\n",
    "\"\"\"\n",
    "# define progress variables\n",
    "total = df.shape[0]          # total rows\n",
    "percentage = 10;             # show progress on every 10% completed\n",
    "portion = int(total * 0.1)   # 10% portion\n",
    "\n",
    "print('Insert into songs_by_session table started. Please wait...')\n",
    "\n",
    "try:\n",
    "    # loop through all dataframe rows\n",
    "    for ix, item in df.iterrows():\n",
    "        # insert\n",
    "        session.execute(query, \\\n",
    "            (item.userId, item.sessionId, item.itemInSession, \\\n",
    "             item.artist, item.song, item.firstName, item.lastName))\n",
    "    \n",
    "        # show progress\n",
    "        if (ix+1) % portion == 0:\n",
    "            print(f' > {percentage}% done.')\n",
    "            percentage += 10\n",
    "\n",
    "    print('Insert completed.') \n",
    "except Exception as e:\n",
    "    print(e)"
   ]
  },
  {
   "cell_type": "markdown",
   "metadata": {},
   "source": [
    "##### Validate"
   ]
  },
  {
   "cell_type": "code",
   "execution_count": 81,
   "metadata": {},
   "outputs": [
    {
     "name": "stdout",
     "output_type": "stream",
     "text": [
      "OK: 6820 of 6820\n"
     ]
    }
   ],
   "source": [
    "# Check row count - should be 6820!\n",
    "count = get_rowcount(session, 'songs_by_session')\n",
    "total = len(df)\n",
    "if count == total:\n",
    "    status = 'OK'\n",
    "else:\n",
    "    status = 'NOT OK'\n",
    "    \n",
    "print(f\"{status}: {count} of {total}\")"
   ]
  },
  {
   "cell_type": "code",
   "execution_count": 82,
   "metadata": {},
   "outputs": [
    {
     "data": {
      "text/html": [
       "<div>\n",
       "<style scoped>\n",
       "    .dataframe tbody tr th:only-of-type {\n",
       "        vertical-align: middle;\n",
       "    }\n",
       "\n",
       "    .dataframe tbody tr th {\n",
       "        vertical-align: top;\n",
       "    }\n",
       "\n",
       "    .dataframe thead th {\n",
       "        text-align: right;\n",
       "    }\n",
       "</style>\n",
       "<table border=\"1\" class=\"dataframe\">\n",
       "  <thead>\n",
       "    <tr style=\"text-align: right;\">\n",
       "      <th></th>\n",
       "      <th>session_item</th>\n",
       "      <th>artist</th>\n",
       "      <th>song</th>\n",
       "      <th>first_name</th>\n",
       "      <th>last_name</th>\n",
       "    </tr>\n",
       "  </thead>\n",
       "  <tbody>\n",
       "    <tr>\n",
       "      <th>0</th>\n",
       "      <td>0</td>\n",
       "      <td>Down To The Bone</td>\n",
       "      <td>Keep On Keepin' On</td>\n",
       "      <td>Sylvie</td>\n",
       "      <td>Cruz</td>\n",
       "    </tr>\n",
       "    <tr>\n",
       "      <th>1</th>\n",
       "      <td>1</td>\n",
       "      <td>Three Drives</td>\n",
       "      <td>Greece 2000</td>\n",
       "      <td>Sylvie</td>\n",
       "      <td>Cruz</td>\n",
       "    </tr>\n",
       "    <tr>\n",
       "      <th>2</th>\n",
       "      <td>2</td>\n",
       "      <td>Sebastien Tellier</td>\n",
       "      <td>Kilometer</td>\n",
       "      <td>Sylvie</td>\n",
       "      <td>Cruz</td>\n",
       "    </tr>\n",
       "    <tr>\n",
       "      <th>3</th>\n",
       "      <td>3</td>\n",
       "      <td>Lonnie Gordon</td>\n",
       "      <td>Catch You Baby (Steve Pitron &amp; Max Sanna Radio...</td>\n",
       "      <td>Sylvie</td>\n",
       "      <td>Cruz</td>\n",
       "    </tr>\n",
       "  </tbody>\n",
       "</table>\n",
       "</div>"
      ],
      "text/plain": [
       "   session_item             artist  \\\n",
       "0             0   Down To The Bone   \n",
       "1             1       Three Drives   \n",
       "2             2  Sebastien Tellier   \n",
       "3             3      Lonnie Gordon   \n",
       "\n",
       "                                                song first_name last_name  \n",
       "0                                 Keep On Keepin' On     Sylvie      Cruz  \n",
       "1                                        Greece 2000     Sylvie      Cruz  \n",
       "2                                          Kilometer     Sylvie      Cruz  \n",
       "3  Catch You Baby (Steve Pitron & Max Sanna Radio...     Sylvie      Cruz  "
      ]
     },
     "execution_count": 82,
     "metadata": {},
     "output_type": "execute_result"
    }
   ],
   "source": [
    "# Test query #2\n",
    "# Note: We'll include session_item column to check the ordering!\n",
    "query2 = \"\"\"\n",
    "    SELECT session_item, artist, song, first_name, last_name \n",
    "    FROM songs_by_session\n",
    "    WHERE user_id = 10 and session_id = 182;\n",
    "\"\"\"\n",
    "data = []\n",
    "result = execute_query(session, query2)\n",
    "for row in result:\n",
    "    data.append(row)\n",
    "\n",
    "pd.DataFrame(data)"
   ]
  },
  {
   "cell_type": "code",
   "execution_count": 83,
   "metadata": {},
   "outputs": [
    {
     "data": {
      "text/html": [
       "<div>\n",
       "<style scoped>\n",
       "    .dataframe tbody tr th:only-of-type {\n",
       "        vertical-align: middle;\n",
       "    }\n",
       "\n",
       "    .dataframe tbody tr th {\n",
       "        vertical-align: top;\n",
       "    }\n",
       "\n",
       "    .dataframe thead th {\n",
       "        text-align: right;\n",
       "    }\n",
       "</style>\n",
       "<table border=\"1\" class=\"dataframe\">\n",
       "  <thead>\n",
       "    <tr style=\"text-align: right;\">\n",
       "      <th></th>\n",
       "      <th>artist</th>\n",
       "      <th>song</th>\n",
       "      <th>firstName</th>\n",
       "      <th>lastName</th>\n",
       "    </tr>\n",
       "  </thead>\n",
       "  <tbody>\n",
       "    <tr>\n",
       "      <th>151</th>\n",
       "      <td>Down To The Bone</td>\n",
       "      <td>Keep On Keepin' On</td>\n",
       "      <td>Sylvie</td>\n",
       "      <td>Cruz</td>\n",
       "    </tr>\n",
       "    <tr>\n",
       "      <th>152</th>\n",
       "      <td>Three Drives</td>\n",
       "      <td>Greece 2000</td>\n",
       "      <td>Sylvie</td>\n",
       "      <td>Cruz</td>\n",
       "    </tr>\n",
       "    <tr>\n",
       "      <th>153</th>\n",
       "      <td>Sebastien Tellier</td>\n",
       "      <td>Kilometer</td>\n",
       "      <td>Sylvie</td>\n",
       "      <td>Cruz</td>\n",
       "    </tr>\n",
       "    <tr>\n",
       "      <th>154</th>\n",
       "      <td>Lonnie Gordon</td>\n",
       "      <td>Catch You Baby (Steve Pitron &amp; Max Sanna Radio...</td>\n",
       "      <td>Sylvie</td>\n",
       "      <td>Cruz</td>\n",
       "    </tr>\n",
       "  </tbody>\n",
       "</table>\n",
       "</div>"
      ],
      "text/plain": [
       "                artist                                               song  \\\n",
       "151   Down To The Bone                                 Keep On Keepin' On   \n",
       "152       Three Drives                                        Greece 2000   \n",
       "153  Sebastien Tellier                                          Kilometer   \n",
       "154      Lonnie Gordon  Catch You Baby (Steve Pitron & Max Sanna Radio...   \n",
       "\n",
       "    firstName lastName  \n",
       "151    Sylvie     Cruz  \n",
       "152    Sylvie     Cruz  \n",
       "153    Sylvie     Cruz  \n",
       "154    Sylvie     Cruz  "
      ]
     },
     "execution_count": 83,
     "metadata": {},
     "output_type": "execute_result"
    }
   ],
   "source": [
    "# Check it using pandas dataframe - OK!\n",
    "df[(df.userId == 10) & (df.sessionId == 182)].sort_values(by='itemInSession') \\\n",
    "    .loc[:, ['artist', 'song', 'firstName', 'lastName']]"
   ]
  },
  {
   "cell_type": "code",
   "execution_count": null,
   "metadata": {},
   "outputs": [],
   "source": []
  },
  {
   "cell_type": "markdown",
   "metadata": {},
   "source": [
    "#### Table #3: *users_by_song*\n",
    "\n",
    "Query description:\n",
    "\n",
    "> Give me all users (by *first* and *last name*) who listened to the **song** = 'All Hands Against His Own'."
   ]
  },
  {
   "cell_type": "markdown",
   "metadata": {},
   "source": [
    "##### Check user uniqueness\n",
    "\n",
    "Since the query selects the user by *first name* and *last name* (if we read it and follow it literally) columns we must check if our dataset guarantee the user uniqueness using these two keys (*first name*, *last name*). Generally, it is not a good idea to bound the identity of a person to these two keys since two people can share the same last name and first name."
   ]
  },
  {
   "cell_type": "code",
   "execution_count": 54,
   "metadata": {},
   "outputs": [
    {
     "data": {
      "text/html": [
       "<div>\n",
       "<style scoped>\n",
       "    .dataframe tbody tr th:only-of-type {\n",
       "        vertical-align: middle;\n",
       "    }\n",
       "\n",
       "    .dataframe tbody tr th {\n",
       "        vertical-align: top;\n",
       "    }\n",
       "\n",
       "    .dataframe thead th {\n",
       "        text-align: right;\n",
       "    }\n",
       "</style>\n",
       "<table border=\"1\" class=\"dataframe\">\n",
       "  <thead>\n",
       "    <tr style=\"text-align: right;\">\n",
       "      <th></th>\n",
       "      <th>lastName</th>\n",
       "      <th>firstName</th>\n",
       "    </tr>\n",
       "  </thead>\n",
       "  <tbody>\n",
       "    <tr>\n",
       "      <th>1343</th>\n",
       "      <td>Robinson</td>\n",
       "      <td>Ava</td>\n",
       "    </tr>\n",
       "  </tbody>\n",
       "</table>\n",
       "</div>"
      ],
      "text/plain": [
       "      lastName firstName\n",
       "1343  Robinson       Ava"
      ]
     },
     "execution_count": 54,
     "metadata": {},
     "output_type": "execute_result"
    }
   ],
   "source": [
    "# Let us check if there are any duplicates by (lastName, firstName)\n",
    "df_users = df[['userId', 'lastName', 'firstName']].drop_duplicates()\n",
    "df_users.loc[df_users.duplicated(subset=['lastName', 'firstName']), ['lastName', 'firstName']]"
   ]
  },
  {
   "cell_type": "code",
   "execution_count": 55,
   "metadata": {},
   "outputs": [
    {
     "data": {
      "text/html": [
       "<div>\n",
       "<style scoped>\n",
       "    .dataframe tbody tr th:only-of-type {\n",
       "        vertical-align: middle;\n",
       "    }\n",
       "\n",
       "    .dataframe tbody tr th {\n",
       "        vertical-align: top;\n",
       "    }\n",
       "\n",
       "    .dataframe thead th {\n",
       "        text-align: right;\n",
       "    }\n",
       "</style>\n",
       "<table border=\"1\" class=\"dataframe\">\n",
       "  <thead>\n",
       "    <tr style=\"text-align: right;\">\n",
       "      <th></th>\n",
       "      <th>userId</th>\n",
       "      <th>lastName</th>\n",
       "      <th>firstName</th>\n",
       "    </tr>\n",
       "  </thead>\n",
       "  <tbody>\n",
       "    <tr>\n",
       "      <th>143</th>\n",
       "      <td>50</td>\n",
       "      <td>Robinson</td>\n",
       "      <td>Ava</td>\n",
       "    </tr>\n",
       "    <tr>\n",
       "      <th>1343</th>\n",
       "      <td>13</td>\n",
       "      <td>Robinson</td>\n",
       "      <td>Ava</td>\n",
       "    </tr>\n",
       "  </tbody>\n",
       "</table>\n",
       "</div>"
      ],
      "text/plain": [
       "      userId  lastName firstName\n",
       "143       50  Robinson       Ava\n",
       "1343      13  Robinson       Ava"
      ]
     },
     "execution_count": 55,
     "metadata": {},
     "output_type": "execute_result"
    }
   ],
   "source": [
    "# Which users share the same names?\n",
    "df_users[(df_users.lastName == 'Robinson') & (df_users.firstName == 'Ava')]"
   ]
  },
  {
   "cell_type": "markdown",
   "metadata": {},
   "source": [
    "So there are duplicates by user names in our dataset. Obviously, our dataset does not guarantee the uniqueness of a user by his/her first name and last name. It can only be guaranteed by the **userId** column, therefore, this column should always accompany the **firstName** and the **lastName** columns to provide the *unique user*."
   ]
  },
  {
   "cell_type": "markdown",
   "metadata": {},
   "source": [
    "Query:\n",
    "\n",
    "> ```SELECT user_id, first_name, last_name FROM users_by_song WHERE song = 'All Hands Against His Own'```\n",
    "\n",
    "Explanation:\n",
    "\n",
    "> The query returns the information about *users* filtered by *song*, thus we'll use the name \"users_by_song\" for our table. The PRIMARY KEY will consist of the *song* column (PARTITION KEY) and the *user_id* column (CLUSTERING KEY). \n",
    "\n",
    "Columns:\n",
    " - *song* (PK: PARTITION KEY, text)\n",
    " - *user_id* (PK: CLUSTERING KEY, int)\n",
    " - *first_name* (text)\n",
    " - *last_name* (text)"
   ]
  },
  {
   "cell_type": "markdown",
   "metadata": {},
   "source": [
    "##### Create"
   ]
  },
  {
   "cell_type": "code",
   "execution_count": 85,
   "metadata": {},
   "outputs": [],
   "source": [
    "query = \"\"\"\n",
    "    CREATE TABLE IF NOT EXISTS users_by_song (\n",
    "        song text,\n",
    "        user_id int,\n",
    "        first_name text,\n",
    "        last_name text,\n",
    "        PRIMARY KEY ((song), user_id)\n",
    "    );\n",
    "\"\"\"\n",
    "try:\n",
    "    session.execute(query)\n",
    "except Exception as e:\n",
    "    print(e)"
   ]
  },
  {
   "cell_type": "markdown",
   "metadata": {},
   "source": [
    "##### Insert"
   ]
  },
  {
   "cell_type": "code",
   "execution_count": 86,
   "metadata": {},
   "outputs": [
    {
     "data": {
      "text/plain": [
       "(6618, 4)"
      ]
     },
     "execution_count": 86,
     "metadata": {},
     "output_type": "execute_result"
    }
   ],
   "source": [
    "# Check how many unique rows do we obtain by the key (song, userId, firstName, lastName)\n",
    "df_users_by_song = df[['song', 'userId', 'firstName', 'lastName']].drop_duplicates()\n",
    "df_users_by_song.shape"
   ]
  },
  {
   "cell_type": "markdown",
   "metadata": {},
   "source": [
    "Although it does not make much difference we prefer to use only the unique rows from *df_users_by_song*."
   ]
  },
  {
   "cell_type": "code",
   "execution_count": 88,
   "metadata": {},
   "outputs": [
    {
     "name": "stdout",
     "output_type": "stream",
     "text": [
      "Insert into users_by_song table started. Please wait...\n",
      " > 10% done.\n",
      " > 20% done.\n",
      " > 30% done.\n",
      " > 40% done.\n",
      " > 50% done.\n",
      " > 60% done.\n",
      " > 70% done.\n",
      " > 80% done.\n",
      " > 90% done.\n",
      " > 100% done.\n",
      "Insert completed.\n"
     ]
    }
   ],
   "source": [
    "query = \"\"\"\n",
    "    INSERT INTO users_by_song\n",
    "    (song, user_id, first_name, last_name)\n",
    "    VALUES (%s, %s, %s, %s);\n",
    "\"\"\"\n",
    "# define progress variables\n",
    "total = df_users_by_song.shape[0]   # total rows\n",
    "percentage = 10;                 # show progress on every 10% completed\n",
    "portion = int(total * 0.1)       # 10% portion\n",
    "\n",
    "print('Insert into users_by_song table started. Please wait...')\n",
    "\n",
    "try:\n",
    "    # loop through the (unique) dataframe rows\n",
    "    for ix, item in df_users_by_song.iterrows():\n",
    "        # insert\n",
    "        session.execute(query, \\\n",
    "            (item.song, item.userId, item.firstName, item.lastName))\n",
    "    \n",
    "        # show progress\n",
    "        if (ix+1) % portion == 0:\n",
    "            print(f' > {percentage}% done.')\n",
    "            percentage += 10\n",
    "\n",
    "    print('Insert completed.') \n",
    "except Exception as e:\n",
    "    print(e)"
   ]
  },
  {
   "cell_type": "markdown",
   "metadata": {},
   "source": [
    "##### Validate"
   ]
  },
  {
   "cell_type": "code",
   "execution_count": 98,
   "metadata": {},
   "outputs": [
    {
     "name": "stdout",
     "output_type": "stream",
     "text": [
      "OK: 6618 of 6618\n"
     ]
    }
   ],
   "source": [
    "# Check row count - should be 6618!\n",
    "count = get_rowcount(session, 'users_by_song')\n",
    "total = len(df_users_by_song)\n",
    "if count == total:\n",
    "    status = 'OK'\n",
    "else:\n",
    "    status = 'NOT OK'\n",
    "    \n",
    "print(f\"{status}: {count} of {total}\")"
   ]
  },
  {
   "cell_type": "code",
   "execution_count": 95,
   "metadata": {},
   "outputs": [
    {
     "data": {
      "text/html": [
       "<div>\n",
       "<style scoped>\n",
       "    .dataframe tbody tr th:only-of-type {\n",
       "        vertical-align: middle;\n",
       "    }\n",
       "\n",
       "    .dataframe tbody tr th {\n",
       "        vertical-align: top;\n",
       "    }\n",
       "\n",
       "    .dataframe thead th {\n",
       "        text-align: right;\n",
       "    }\n",
       "</style>\n",
       "<table border=\"1\" class=\"dataframe\">\n",
       "  <thead>\n",
       "    <tr style=\"text-align: right;\">\n",
       "      <th></th>\n",
       "      <th>user_id</th>\n",
       "      <th>first_name</th>\n",
       "      <th>last_name</th>\n",
       "    </tr>\n",
       "  </thead>\n",
       "  <tbody>\n",
       "    <tr>\n",
       "      <th>0</th>\n",
       "      <td>29</td>\n",
       "      <td>Jacqueline</td>\n",
       "      <td>Lynch</td>\n",
       "    </tr>\n",
       "    <tr>\n",
       "      <th>1</th>\n",
       "      <td>80</td>\n",
       "      <td>Tegan</td>\n",
       "      <td>Levine</td>\n",
       "    </tr>\n",
       "    <tr>\n",
       "      <th>2</th>\n",
       "      <td>95</td>\n",
       "      <td>Sara</td>\n",
       "      <td>Johnson</td>\n",
       "    </tr>\n",
       "  </tbody>\n",
       "</table>\n",
       "</div>"
      ],
      "text/plain": [
       "   user_id  first_name last_name\n",
       "0       29  Jacqueline     Lynch\n",
       "1       80       Tegan    Levine\n",
       "2       95        Sara   Johnson"
      ]
     },
     "execution_count": 95,
     "metadata": {},
     "output_type": "execute_result"
    }
   ],
   "source": [
    "# Test query #3\n",
    "# Note: We'll include session_item column to check the ordering!\n",
    "query3 = \"\"\"\n",
    "    SELECT user_id, first_name, last_name \n",
    "    FROM users_by_song\n",
    "    WHERE song = 'All Hands Against His Own';\n",
    "\"\"\"\n",
    "data = []\n",
    "result = execute_query(session, query3)\n",
    "for row in result:\n",
    "    data.append(row)\n",
    "\n",
    "pd.DataFrame(data)"
   ]
  },
  {
   "cell_type": "code",
   "execution_count": 91,
   "metadata": {},
   "outputs": [
    {
     "data": {
      "text/html": [
       "<div>\n",
       "<style scoped>\n",
       "    .dataframe tbody tr th:only-of-type {\n",
       "        vertical-align: middle;\n",
       "    }\n",
       "\n",
       "    .dataframe tbody tr th {\n",
       "        vertical-align: top;\n",
       "    }\n",
       "\n",
       "    .dataframe thead th {\n",
       "        text-align: right;\n",
       "    }\n",
       "</style>\n",
       "<table border=\"1\" class=\"dataframe\">\n",
       "  <thead>\n",
       "    <tr style=\"text-align: right;\">\n",
       "      <th></th>\n",
       "      <th>userId</th>\n",
       "      <th>firstName</th>\n",
       "      <th>lastName</th>\n",
       "    </tr>\n",
       "  </thead>\n",
       "  <tbody>\n",
       "    <tr>\n",
       "      <th>2442</th>\n",
       "      <td>29</td>\n",
       "      <td>Jacqueline</td>\n",
       "      <td>Lynch</td>\n",
       "    </tr>\n",
       "    <tr>\n",
       "      <th>2646</th>\n",
       "      <td>80</td>\n",
       "      <td>Tegan</td>\n",
       "      <td>Levine</td>\n",
       "    </tr>\n",
       "    <tr>\n",
       "      <th>219</th>\n",
       "      <td>95</td>\n",
       "      <td>Sara</td>\n",
       "      <td>Johnson</td>\n",
       "    </tr>\n",
       "  </tbody>\n",
       "</table>\n",
       "</div>"
      ],
      "text/plain": [
       "      userId   firstName lastName\n",
       "2442      29  Jacqueline    Lynch\n",
       "2646      80       Tegan   Levine\n",
       "219       95        Sara  Johnson"
      ]
     },
     "execution_count": 91,
     "metadata": {},
     "output_type": "execute_result"
    }
   ],
   "source": [
    "# Check it using pandas dataframe - OK!\n",
    "df[df.song == 'All Hands Against His Own'].sort_values(by='userId') \\\n",
    "    .loc[:, ['userId', 'firstName', 'lastName']] \\\n",
    "    .drop_duplicates()"
   ]
  },
  {
   "cell_type": "code",
   "execution_count": null,
   "metadata": {},
   "outputs": [],
   "source": []
  },
  {
   "cell_type": "markdown",
   "metadata": {},
   "source": [
    "### Drop tables and close session"
   ]
  },
  {
   "cell_type": "code",
   "execution_count": 206,
   "metadata": {},
   "outputs": [],
   "source": [
    "# Drop all tables\n",
    "try:\n",
    "    session.execute('DROP TABLE IF EXISTS sessions;')\n",
    "    session.execute('DROP TABLE IF EXISTS user_sessions;')\n",
    "    session.execute('DROP TABLE IF EXISTS songs;')\n",
    "except Exception as e:\n",
    "    print(e)"
   ]
  },
  {
   "cell_type": "code",
   "execution_count": 92,
   "metadata": {},
   "outputs": [],
   "source": [
    "session.shutdown()\n",
    "cluster.shutdown()"
   ]
  },
  {
   "cell_type": "code",
   "execution_count": null,
   "metadata": {},
   "outputs": [],
   "source": []
  }
 ],
 "metadata": {
  "kernelspec": {
   "display_name": "Python 3",
   "language": "python",
   "name": "python3"
  },
  "language_info": {
   "codemirror_mode": {
    "name": "ipython",
    "version": 3
   },
   "file_extension": ".py",
   "mimetype": "text/x-python",
   "name": "python",
   "nbconvert_exporter": "python",
   "pygments_lexer": "ipython3",
   "version": "3.8.3"
  }
 },
 "nbformat": 4,
 "nbformat_minor": 4
}
